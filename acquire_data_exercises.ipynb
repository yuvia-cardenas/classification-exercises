{
 "cells": [
  {
   "cell_type": "code",
   "execution_count": 1,
   "id": "ff9cf75e",
   "metadata": {},
   "outputs": [],
   "source": [
    "import os\n",
    "from pydataset import data\n",
    "\n",
    "import pandas as pd\n",
    "import numpy as np\n",
    "import seaborn as sns\n",
    "import matplotlib.pyplot as plt\n",
    "\n",
    "#from env import host, user, pwd\n",
    "#from env import get_db_url\n",
    "#url = get_db_url\n",
    "\n",
    "\n"
   ]
  },
  {
   "cell_type": "code",
   "execution_count": 2,
   "id": "545db02c",
   "metadata": {},
   "outputs": [],
   "source": [
    "from env import host, user, pwd\n",
    "\n",
    "\n"
   ]
  },
  {
   "cell_type": "code",
   "execution_count": 3,
   "id": "7b5e3cd0",
   "metadata": {},
   "outputs": [],
   "source": [
    "#4. In a jupyter notebook, `classification_exercises.ipynb`, use a python module (pydata or seaborn datasets) containing datasets as a source from the iris data. Create a pandas dataframe, `df_iris`, from this data.\n",
    "\n",
    "#    - print the first 3 rows\n",
    "#    - print the number of rows and columns (shape)\n",
    "#    - print the column names\n",
    "#    - print the data type of each column\n",
    "#    - print the summary statistics for each of the numeric variables. Would you\n",
    "#      recommend rescaling the data based on these statistics?\n",
    "iris = data('iris')\n",
    "df_iris = sns.load_dataset('iris')"
   ]
  },
  {
   "cell_type": "code",
   "execution_count": 4,
   "id": "7513301b",
   "metadata": {},
   "outputs": [
    {
     "data": {
      "text/html": [
       "<div>\n",
       "<style scoped>\n",
       "    .dataframe tbody tr th:only-of-type {\n",
       "        vertical-align: middle;\n",
       "    }\n",
       "\n",
       "    .dataframe tbody tr th {\n",
       "        vertical-align: top;\n",
       "    }\n",
       "\n",
       "    .dataframe thead th {\n",
       "        text-align: right;\n",
       "    }\n",
       "</style>\n",
       "<table border=\"1\" class=\"dataframe\">\n",
       "  <thead>\n",
       "    <tr style=\"text-align: right;\">\n",
       "      <th></th>\n",
       "      <th>sepal_length</th>\n",
       "      <th>sepal_width</th>\n",
       "      <th>petal_length</th>\n",
       "      <th>petal_width</th>\n",
       "      <th>species</th>\n",
       "    </tr>\n",
       "  </thead>\n",
       "  <tbody>\n",
       "    <tr>\n",
       "      <th>0</th>\n",
       "      <td>5.1</td>\n",
       "      <td>3.5</td>\n",
       "      <td>1.4</td>\n",
       "      <td>0.2</td>\n",
       "      <td>setosa</td>\n",
       "    </tr>\n",
       "    <tr>\n",
       "      <th>1</th>\n",
       "      <td>4.9</td>\n",
       "      <td>3.0</td>\n",
       "      <td>1.4</td>\n",
       "      <td>0.2</td>\n",
       "      <td>setosa</td>\n",
       "    </tr>\n",
       "    <tr>\n",
       "      <th>2</th>\n",
       "      <td>4.7</td>\n",
       "      <td>3.2</td>\n",
       "      <td>1.3</td>\n",
       "      <td>0.2</td>\n",
       "      <td>setosa</td>\n",
       "    </tr>\n",
       "  </tbody>\n",
       "</table>\n",
       "</div>"
      ],
      "text/plain": [
       "   sepal_length  sepal_width  petal_length  petal_width species\n",
       "0           5.1          3.5           1.4          0.2  setosa\n",
       "1           4.9          3.0           1.4          0.2  setosa\n",
       "2           4.7          3.2           1.3          0.2  setosa"
      ]
     },
     "execution_count": 4,
     "metadata": {},
     "output_type": "execute_result"
    }
   ],
   "source": [
    "df_iris.head(3)"
   ]
  },
  {
   "cell_type": "code",
   "execution_count": 5,
   "id": "cdf239f9",
   "metadata": {},
   "outputs": [
    {
     "data": {
      "text/plain": [
       "(150, 5)"
      ]
     },
     "execution_count": 5,
     "metadata": {},
     "output_type": "execute_result"
    }
   ],
   "source": [
    "iris.shape"
   ]
  },
  {
   "cell_type": "code",
   "execution_count": 6,
   "id": "7cc40fd2",
   "metadata": {},
   "outputs": [
    {
     "data": {
      "text/plain": [
       "['Sepal.Length', 'Sepal.Width', 'Petal.Length', 'Petal.Width', 'Species']"
      ]
     },
     "execution_count": 6,
     "metadata": {},
     "output_type": "execute_result"
    }
   ],
   "source": [
    "iris.columns.tolist()"
   ]
  },
  {
   "cell_type": "code",
   "execution_count": 7,
   "id": "3781f6a4",
   "metadata": {},
   "outputs": [
    {
     "data": {
      "text/plain": [
       "Index(['sepal_length', 'sepal_width', 'petal_length', 'petal_width',\n",
       "       'species'],\n",
       "      dtype='object')"
      ]
     },
     "execution_count": 7,
     "metadata": {},
     "output_type": "execute_result"
    }
   ],
   "source": [
    "df_iris.columns"
   ]
  },
  {
   "cell_type": "code",
   "execution_count": 8,
   "id": "d6612613",
   "metadata": {},
   "outputs": [
    {
     "data": {
      "text/plain": [
       "Sepal.Length    float64\n",
       "Sepal.Width     float64\n",
       "Petal.Length    float64\n",
       "Petal.Width     float64\n",
       "Species          object\n",
       "dtype: object"
      ]
     },
     "execution_count": 8,
     "metadata": {},
     "output_type": "execute_result"
    }
   ],
   "source": [
    "iris.dtypes"
   ]
  },
  {
   "cell_type": "code",
   "execution_count": 9,
   "id": "66589dba",
   "metadata": {},
   "outputs": [
    {
     "data": {
      "text/plain": [
       "<bound method DataFrame.info of      Sepal.Length  Sepal.Width  Petal.Length  Petal.Width     Species\n",
       "1             5.1          3.5           1.4          0.2      setosa\n",
       "2             4.9          3.0           1.4          0.2      setosa\n",
       "3             4.7          3.2           1.3          0.2      setosa\n",
       "4             4.6          3.1           1.5          0.2      setosa\n",
       "5             5.0          3.6           1.4          0.2      setosa\n",
       "6             5.4          3.9           1.7          0.4      setosa\n",
       "7             4.6          3.4           1.4          0.3      setosa\n",
       "8             5.0          3.4           1.5          0.2      setosa\n",
       "9             4.4          2.9           1.4          0.2      setosa\n",
       "10            4.9          3.1           1.5          0.1      setosa\n",
       "11            5.4          3.7           1.5          0.2      setosa\n",
       "12            4.8          3.4           1.6          0.2      setosa\n",
       "13            4.8          3.0           1.4          0.1      setosa\n",
       "14            4.3          3.0           1.1          0.1      setosa\n",
       "15            5.8          4.0           1.2          0.2      setosa\n",
       "16            5.7          4.4           1.5          0.4      setosa\n",
       "17            5.4          3.9           1.3          0.4      setosa\n",
       "18            5.1          3.5           1.4          0.3      setosa\n",
       "19            5.7          3.8           1.7          0.3      setosa\n",
       "20            5.1          3.8           1.5          0.3      setosa\n",
       "21            5.4          3.4           1.7          0.2      setosa\n",
       "22            5.1          3.7           1.5          0.4      setosa\n",
       "23            4.6          3.6           1.0          0.2      setosa\n",
       "24            5.1          3.3           1.7          0.5      setosa\n",
       "25            4.8          3.4           1.9          0.2      setosa\n",
       "26            5.0          3.0           1.6          0.2      setosa\n",
       "27            5.0          3.4           1.6          0.4      setosa\n",
       "28            5.2          3.5           1.5          0.2      setosa\n",
       "29            5.2          3.4           1.4          0.2      setosa\n",
       "30            4.7          3.2           1.6          0.2      setosa\n",
       "31            4.8          3.1           1.6          0.2      setosa\n",
       "32            5.4          3.4           1.5          0.4      setosa\n",
       "33            5.2          4.1           1.5          0.1      setosa\n",
       "34            5.5          4.2           1.4          0.2      setosa\n",
       "35            4.9          3.1           1.5          0.2      setosa\n",
       "36            5.0          3.2           1.2          0.2      setosa\n",
       "37            5.5          3.5           1.3          0.2      setosa\n",
       "38            4.9          3.6           1.4          0.1      setosa\n",
       "39            4.4          3.0           1.3          0.2      setosa\n",
       "40            5.1          3.4           1.5          0.2      setosa\n",
       "41            5.0          3.5           1.3          0.3      setosa\n",
       "42            4.5          2.3           1.3          0.3      setosa\n",
       "43            4.4          3.2           1.3          0.2      setosa\n",
       "44            5.0          3.5           1.6          0.6      setosa\n",
       "45            5.1          3.8           1.9          0.4      setosa\n",
       "46            4.8          3.0           1.4          0.3      setosa\n",
       "47            5.1          3.8           1.6          0.2      setosa\n",
       "48            4.6          3.2           1.4          0.2      setosa\n",
       "49            5.3          3.7           1.5          0.2      setosa\n",
       "50            5.0          3.3           1.4          0.2      setosa\n",
       "51            7.0          3.2           4.7          1.4  versicolor\n",
       "52            6.4          3.2           4.5          1.5  versicolor\n",
       "53            6.9          3.1           4.9          1.5  versicolor\n",
       "54            5.5          2.3           4.0          1.3  versicolor\n",
       "55            6.5          2.8           4.6          1.5  versicolor\n",
       "56            5.7          2.8           4.5          1.3  versicolor\n",
       "57            6.3          3.3           4.7          1.6  versicolor\n",
       "58            4.9          2.4           3.3          1.0  versicolor\n",
       "59            6.6          2.9           4.6          1.3  versicolor\n",
       "60            5.2          2.7           3.9          1.4  versicolor\n",
       "61            5.0          2.0           3.5          1.0  versicolor\n",
       "62            5.9          3.0           4.2          1.5  versicolor\n",
       "63            6.0          2.2           4.0          1.0  versicolor\n",
       "64            6.1          2.9           4.7          1.4  versicolor\n",
       "65            5.6          2.9           3.6          1.3  versicolor\n",
       "66            6.7          3.1           4.4          1.4  versicolor\n",
       "67            5.6          3.0           4.5          1.5  versicolor\n",
       "68            5.8          2.7           4.1          1.0  versicolor\n",
       "69            6.2          2.2           4.5          1.5  versicolor\n",
       "70            5.6          2.5           3.9          1.1  versicolor\n",
       "71            5.9          3.2           4.8          1.8  versicolor\n",
       "72            6.1          2.8           4.0          1.3  versicolor\n",
       "73            6.3          2.5           4.9          1.5  versicolor\n",
       "74            6.1          2.8           4.7          1.2  versicolor\n",
       "75            6.4          2.9           4.3          1.3  versicolor\n",
       "76            6.6          3.0           4.4          1.4  versicolor\n",
       "77            6.8          2.8           4.8          1.4  versicolor\n",
       "78            6.7          3.0           5.0          1.7  versicolor\n",
       "79            6.0          2.9           4.5          1.5  versicolor\n",
       "80            5.7          2.6           3.5          1.0  versicolor\n",
       "81            5.5          2.4           3.8          1.1  versicolor\n",
       "82            5.5          2.4           3.7          1.0  versicolor\n",
       "83            5.8          2.7           3.9          1.2  versicolor\n",
       "84            6.0          2.7           5.1          1.6  versicolor\n",
       "85            5.4          3.0           4.5          1.5  versicolor\n",
       "86            6.0          3.4           4.5          1.6  versicolor\n",
       "87            6.7          3.1           4.7          1.5  versicolor\n",
       "88            6.3          2.3           4.4          1.3  versicolor\n",
       "89            5.6          3.0           4.1          1.3  versicolor\n",
       "90            5.5          2.5           4.0          1.3  versicolor\n",
       "91            5.5          2.6           4.4          1.2  versicolor\n",
       "92            6.1          3.0           4.6          1.4  versicolor\n",
       "93            5.8          2.6           4.0          1.2  versicolor\n",
       "94            5.0          2.3           3.3          1.0  versicolor\n",
       "95            5.6          2.7           4.2          1.3  versicolor\n",
       "96            5.7          3.0           4.2          1.2  versicolor\n",
       "97            5.7          2.9           4.2          1.3  versicolor\n",
       "98            6.2          2.9           4.3          1.3  versicolor\n",
       "99            5.1          2.5           3.0          1.1  versicolor\n",
       "100           5.7          2.8           4.1          1.3  versicolor\n",
       "101           6.3          3.3           6.0          2.5   virginica\n",
       "102           5.8          2.7           5.1          1.9   virginica\n",
       "103           7.1          3.0           5.9          2.1   virginica\n",
       "104           6.3          2.9           5.6          1.8   virginica\n",
       "105           6.5          3.0           5.8          2.2   virginica\n",
       "106           7.6          3.0           6.6          2.1   virginica\n",
       "107           4.9          2.5           4.5          1.7   virginica\n",
       "108           7.3          2.9           6.3          1.8   virginica\n",
       "109           6.7          2.5           5.8          1.8   virginica\n",
       "110           7.2          3.6           6.1          2.5   virginica\n",
       "111           6.5          3.2           5.1          2.0   virginica\n",
       "112           6.4          2.7           5.3          1.9   virginica\n",
       "113           6.8          3.0           5.5          2.1   virginica\n",
       "114           5.7          2.5           5.0          2.0   virginica\n",
       "115           5.8          2.8           5.1          2.4   virginica\n",
       "116           6.4          3.2           5.3          2.3   virginica\n",
       "117           6.5          3.0           5.5          1.8   virginica\n",
       "118           7.7          3.8           6.7          2.2   virginica\n",
       "119           7.7          2.6           6.9          2.3   virginica\n",
       "120           6.0          2.2           5.0          1.5   virginica\n",
       "121           6.9          3.2           5.7          2.3   virginica\n",
       "122           5.6          2.8           4.9          2.0   virginica\n",
       "123           7.7          2.8           6.7          2.0   virginica\n",
       "124           6.3          2.7           4.9          1.8   virginica\n",
       "125           6.7          3.3           5.7          2.1   virginica\n",
       "126           7.2          3.2           6.0          1.8   virginica\n",
       "127           6.2          2.8           4.8          1.8   virginica\n",
       "128           6.1          3.0           4.9          1.8   virginica\n",
       "129           6.4          2.8           5.6          2.1   virginica\n",
       "130           7.2          3.0           5.8          1.6   virginica\n",
       "131           7.4          2.8           6.1          1.9   virginica\n",
       "132           7.9          3.8           6.4          2.0   virginica\n",
       "133           6.4          2.8           5.6          2.2   virginica\n",
       "134           6.3          2.8           5.1          1.5   virginica\n",
       "135           6.1          2.6           5.6          1.4   virginica\n",
       "136           7.7          3.0           6.1          2.3   virginica\n",
       "137           6.3          3.4           5.6          2.4   virginica\n",
       "138           6.4          3.1           5.5          1.8   virginica\n",
       "139           6.0          3.0           4.8          1.8   virginica\n",
       "140           6.9          3.1           5.4          2.1   virginica\n",
       "141           6.7          3.1           5.6          2.4   virginica\n",
       "142           6.9          3.1           5.1          2.3   virginica\n",
       "143           5.8          2.7           5.1          1.9   virginica\n",
       "144           6.8          3.2           5.9          2.3   virginica\n",
       "145           6.7          3.3           5.7          2.5   virginica\n",
       "146           6.7          3.0           5.2          2.3   virginica\n",
       "147           6.3          2.5           5.0          1.9   virginica\n",
       "148           6.5          3.0           5.2          2.0   virginica\n",
       "149           6.2          3.4           5.4          2.3   virginica\n",
       "150           5.9          3.0           5.1          1.8   virginica>"
      ]
     },
     "execution_count": 9,
     "metadata": {},
     "output_type": "execute_result"
    }
   ],
   "source": [
    "iris.info"
   ]
  },
  {
   "cell_type": "code",
   "execution_count": 10,
   "id": "284f83db",
   "metadata": {},
   "outputs": [],
   "source": [
    "#5. Read the `Table1_CustDetails` table from the `Excel_Exercises.xlsx` file into a\n",
    "#  dataframe named `df_excel`.\n",
    "sheet_url = 'https://docs.google.com/spreadsheets/d/1Uhtml8KY19LILuZsrDtlsHHDC9wuDGUSe8LTEwvdI5g/edit#gid=341089357'\n",
    "csv_export_url = sheet_url.replace('/edit#gid=', '/export?format=csv&gid=')\n",
    "df_google = pd.read_csv(csv_export_url)\n",
    "#    - assign the first 100 rows to a new dataframe, `df_excel_sample`\n",
    "#    - print the number of rows of your original dataframe\n",
    "#    - print the first 5 column names\n",
    "#    - print the column names that have a data type of `object`\n",
    "#    - compute the range for each of the numeric variables.\n"
   ]
  },
  {
   "cell_type": "code",
   "execution_count": 11,
   "id": "b62e8fcc",
   "metadata": {},
   "outputs": [
    {
     "data": {
      "text/html": [
       "<div>\n",
       "<style scoped>\n",
       "    .dataframe tbody tr th:only-of-type {\n",
       "        vertical-align: middle;\n",
       "    }\n",
       "\n",
       "    .dataframe tbody tr th {\n",
       "        vertical-align: top;\n",
       "    }\n",
       "\n",
       "    .dataframe thead th {\n",
       "        text-align: right;\n",
       "    }\n",
       "</style>\n",
       "<table border=\"1\" class=\"dataframe\">\n",
       "  <thead>\n",
       "    <tr style=\"text-align: right;\">\n",
       "      <th></th>\n",
       "      <th>PassengerId</th>\n",
       "      <th>Survived</th>\n",
       "      <th>Pclass</th>\n",
       "      <th>Name</th>\n",
       "      <th>Sex</th>\n",
       "      <th>Age</th>\n",
       "      <th>SibSp</th>\n",
       "      <th>Parch</th>\n",
       "      <th>Ticket</th>\n",
       "      <th>Fare</th>\n",
       "      <th>Cabin</th>\n",
       "      <th>Embarked</th>\n",
       "    </tr>\n",
       "  </thead>\n",
       "  <tbody>\n",
       "    <tr>\n",
       "      <th>0</th>\n",
       "      <td>1</td>\n",
       "      <td>0</td>\n",
       "      <td>3</td>\n",
       "      <td>Braund, Mr. Owen Harris</td>\n",
       "      <td>male</td>\n",
       "      <td>22.0</td>\n",
       "      <td>1</td>\n",
       "      <td>0</td>\n",
       "      <td>A/5 21171</td>\n",
       "      <td>7.2500</td>\n",
       "      <td>NaN</td>\n",
       "      <td>S</td>\n",
       "    </tr>\n",
       "    <tr>\n",
       "      <th>1</th>\n",
       "      <td>2</td>\n",
       "      <td>1</td>\n",
       "      <td>1</td>\n",
       "      <td>Cumings, Mrs. John Bradley (Florence Briggs Thayer)</td>\n",
       "      <td>female</td>\n",
       "      <td>38.0</td>\n",
       "      <td>1</td>\n",
       "      <td>0</td>\n",
       "      <td>PC 17599</td>\n",
       "      <td>71.2833</td>\n",
       "      <td>C85</td>\n",
       "      <td>C</td>\n",
       "    </tr>\n",
       "    <tr>\n",
       "      <th>2</th>\n",
       "      <td>3</td>\n",
       "      <td>1</td>\n",
       "      <td>3</td>\n",
       "      <td>Heikkinen, Miss. Laina</td>\n",
       "      <td>female</td>\n",
       "      <td>26.0</td>\n",
       "      <td>0</td>\n",
       "      <td>0</td>\n",
       "      <td>STON/O2. 3101282</td>\n",
       "      <td>7.9250</td>\n",
       "      <td>NaN</td>\n",
       "      <td>S</td>\n",
       "    </tr>\n",
       "  </tbody>\n",
       "</table>\n",
       "</div>"
      ],
      "text/plain": [
       "   PassengerId  Survived  Pclass  \\\n",
       "0            1         0       3   \n",
       "1            2         1       1   \n",
       "2            3         1       3   \n",
       "\n",
       "                                                  Name     Sex   Age  SibSp  \\\n",
       "0                              Braund, Mr. Owen Harris    male  22.0      1   \n",
       "1  Cumings, Mrs. John Bradley (Florence Briggs Thayer)  female  38.0      1   \n",
       "2                               Heikkinen, Miss. Laina  female  26.0      0   \n",
       "\n",
       "   Parch            Ticket     Fare Cabin Embarked  \n",
       "0      0         A/5 21171   7.2500   NaN        S  \n",
       "1      0          PC 17599  71.2833   C85        C  \n",
       "2      0  STON/O2. 3101282   7.9250   NaN        S  "
      ]
     },
     "execution_count": 11,
     "metadata": {},
     "output_type": "execute_result"
    }
   ],
   "source": [
    "df_google.head(3)"
   ]
  },
  {
   "cell_type": "code",
   "execution_count": 12,
   "id": "6d63a02d",
   "metadata": {},
   "outputs": [
    {
     "data": {
      "text/plain": [
       "(891, 12)"
      ]
     },
     "execution_count": 12,
     "metadata": {},
     "output_type": "execute_result"
    }
   ],
   "source": [
    "df_google.shape"
   ]
  },
  {
   "cell_type": "code",
   "execution_count": 13,
   "id": "7643dd67",
   "metadata": {},
   "outputs": [
    {
     "data": {
      "text/plain": [
       "['PassengerId',\n",
       " 'Survived',\n",
       " 'Pclass',\n",
       " 'Name',\n",
       " 'Sex',\n",
       " 'Age',\n",
       " 'SibSp',\n",
       " 'Parch',\n",
       " 'Ticket',\n",
       " 'Fare',\n",
       " 'Cabin',\n",
       " 'Embarked']"
      ]
     },
     "execution_count": 13,
     "metadata": {},
     "output_type": "execute_result"
    }
   ],
   "source": [
    "df_google.columns.to_list()"
   ]
  },
  {
   "cell_type": "code",
   "execution_count": 14,
   "id": "03918954",
   "metadata": {},
   "outputs": [
    {
     "data": {
      "text/plain": [
       "PassengerId      int64\n",
       "Survived         int64\n",
       "Pclass           int64\n",
       "Name            object\n",
       "Sex             object\n",
       "Age            float64\n",
       "SibSp            int64\n",
       "Parch            int64\n",
       "Ticket          object\n",
       "Fare           float64\n",
       "Cabin           object\n",
       "Embarked        object\n",
       "dtype: object"
      ]
     },
     "execution_count": 14,
     "metadata": {},
     "output_type": "execute_result"
    }
   ],
   "source": [
    "df_google.dtypes"
   ]
  },
  {
   "cell_type": "code",
   "execution_count": 15,
   "id": "68b2d3de",
   "metadata": {},
   "outputs": [
    {
     "name": "stdout",
     "output_type": "stream",
     "text": [
      "<class 'pandas.core.frame.DataFrame'>\n",
      "RangeIndex: 891 entries, 0 to 890\n",
      "Data columns (total 12 columns):\n",
      " #   Column       Non-Null Count  Dtype  \n",
      "---  ------       --------------  -----  \n",
      " 0   PassengerId  891 non-null    int64  \n",
      " 1   Survived     891 non-null    int64  \n",
      " 2   Pclass       891 non-null    int64  \n",
      " 3   Name         891 non-null    object \n",
      " 4   Sex          891 non-null    object \n",
      " 5   Age          714 non-null    float64\n",
      " 6   SibSp        891 non-null    int64  \n",
      " 7   Parch        891 non-null    int64  \n",
      " 8   Ticket       891 non-null    object \n",
      " 9   Fare         891 non-null    float64\n",
      " 10  Cabin        204 non-null    object \n",
      " 11  Embarked     889 non-null    object \n",
      "dtypes: float64(2), int64(5), object(5)\n",
      "memory usage: 83.7+ KB\n"
     ]
    }
   ],
   "source": [
    "df_google.info()"
   ]
  },
  {
   "cell_type": "code",
   "execution_count": 16,
   "id": "993f5123",
   "metadata": {},
   "outputs": [
    {
     "data": {
      "text/html": [
       "<div>\n",
       "<style scoped>\n",
       "    .dataframe tbody tr th:only-of-type {\n",
       "        vertical-align: middle;\n",
       "    }\n",
       "\n",
       "    .dataframe tbody tr th {\n",
       "        vertical-align: top;\n",
       "    }\n",
       "\n",
       "    .dataframe thead th {\n",
       "        text-align: right;\n",
       "    }\n",
       "</style>\n",
       "<table border=\"1\" class=\"dataframe\">\n",
       "  <thead>\n",
       "    <tr style=\"text-align: right;\">\n",
       "      <th></th>\n",
       "      <th>count</th>\n",
       "      <th>mean</th>\n",
       "      <th>std</th>\n",
       "      <th>min</th>\n",
       "      <th>25%</th>\n",
       "      <th>50%</th>\n",
       "      <th>75%</th>\n",
       "      <th>max</th>\n",
       "    </tr>\n",
       "  </thead>\n",
       "  <tbody>\n",
       "    <tr>\n",
       "      <th>PassengerId</th>\n",
       "      <td>891.0</td>\n",
       "      <td>446.000000</td>\n",
       "      <td>257.353842</td>\n",
       "      <td>1.00</td>\n",
       "      <td>223.5000</td>\n",
       "      <td>446.0000</td>\n",
       "      <td>668.5</td>\n",
       "      <td>891.0000</td>\n",
       "    </tr>\n",
       "    <tr>\n",
       "      <th>Survived</th>\n",
       "      <td>891.0</td>\n",
       "      <td>0.383838</td>\n",
       "      <td>0.486592</td>\n",
       "      <td>0.00</td>\n",
       "      <td>0.0000</td>\n",
       "      <td>0.0000</td>\n",
       "      <td>1.0</td>\n",
       "      <td>1.0000</td>\n",
       "    </tr>\n",
       "    <tr>\n",
       "      <th>Pclass</th>\n",
       "      <td>891.0</td>\n",
       "      <td>2.308642</td>\n",
       "      <td>0.836071</td>\n",
       "      <td>1.00</td>\n",
       "      <td>2.0000</td>\n",
       "      <td>3.0000</td>\n",
       "      <td>3.0</td>\n",
       "      <td>3.0000</td>\n",
       "    </tr>\n",
       "    <tr>\n",
       "      <th>Age</th>\n",
       "      <td>714.0</td>\n",
       "      <td>29.699118</td>\n",
       "      <td>14.526497</td>\n",
       "      <td>0.42</td>\n",
       "      <td>20.1250</td>\n",
       "      <td>28.0000</td>\n",
       "      <td>38.0</td>\n",
       "      <td>80.0000</td>\n",
       "    </tr>\n",
       "    <tr>\n",
       "      <th>SibSp</th>\n",
       "      <td>891.0</td>\n",
       "      <td>0.523008</td>\n",
       "      <td>1.102743</td>\n",
       "      <td>0.00</td>\n",
       "      <td>0.0000</td>\n",
       "      <td>0.0000</td>\n",
       "      <td>1.0</td>\n",
       "      <td>8.0000</td>\n",
       "    </tr>\n",
       "    <tr>\n",
       "      <th>Parch</th>\n",
       "      <td>891.0</td>\n",
       "      <td>0.381594</td>\n",
       "      <td>0.806057</td>\n",
       "      <td>0.00</td>\n",
       "      <td>0.0000</td>\n",
       "      <td>0.0000</td>\n",
       "      <td>0.0</td>\n",
       "      <td>6.0000</td>\n",
       "    </tr>\n",
       "    <tr>\n",
       "      <th>Fare</th>\n",
       "      <td>891.0</td>\n",
       "      <td>32.204208</td>\n",
       "      <td>49.693429</td>\n",
       "      <td>0.00</td>\n",
       "      <td>7.9104</td>\n",
       "      <td>14.4542</td>\n",
       "      <td>31.0</td>\n",
       "      <td>512.3292</td>\n",
       "    </tr>\n",
       "  </tbody>\n",
       "</table>\n",
       "</div>"
      ],
      "text/plain": [
       "             count        mean         std   min       25%       50%    75%  \\\n",
       "PassengerId  891.0  446.000000  257.353842  1.00  223.5000  446.0000  668.5   \n",
       "Survived     891.0    0.383838    0.486592  0.00    0.0000    0.0000    1.0   \n",
       "Pclass       891.0    2.308642    0.836071  1.00    2.0000    3.0000    3.0   \n",
       "Age          714.0   29.699118   14.526497  0.42   20.1250   28.0000   38.0   \n",
       "SibSp        891.0    0.523008    1.102743  0.00    0.0000    0.0000    1.0   \n",
       "Parch        891.0    0.381594    0.806057  0.00    0.0000    0.0000    0.0   \n",
       "Fare         891.0   32.204208   49.693429  0.00    7.9104   14.4542   31.0   \n",
       "\n",
       "                  max  \n",
       "PassengerId  891.0000  \n",
       "Survived       1.0000  \n",
       "Pclass         3.0000  \n",
       "Age           80.0000  \n",
       "SibSp          8.0000  \n",
       "Parch          6.0000  \n",
       "Fare         512.3292  "
      ]
     },
     "execution_count": 16,
     "metadata": {},
     "output_type": "execute_result"
    }
   ],
   "source": [
    "df_google.describe().T"
   ]
  },
  {
   "cell_type": "code",
   "execution_count": 17,
   "id": "c7af600d",
   "metadata": {},
   "outputs": [
    {
     "name": "stdout",
     "output_type": "stream",
     "text": [
      "Name has 891 unique values.\n",
      "Sex has 2 unique values.\n",
      "Ticket has 681 unique values.\n",
      "Cabin has 147 unique values.\n",
      "Embarked has 3 unique values.\n"
     ]
    }
   ],
   "source": [
    "# I could get a count of unique values for each variable with an object data type.\n",
    "\n",
    "for col in df_google.columns:\n",
    "#     print(col)\n",
    "    if df_google[col].dtypes == 'object':\n",
    "        print(f'{col} has {df_google[col].nunique()} unique values.')"
   ]
  },
  {
   "cell_type": "code",
   "execution_count": 18,
   "id": "3b64d647",
   "metadata": {},
   "outputs": [
    {
     "data": {
      "text/plain": [
       "0    549\n",
       "1    342\n",
       "Name: Survived, dtype: int64"
      ]
     },
     "execution_count": 18,
     "metadata": {},
     "output_type": "execute_result"
    }
   ],
   "source": [
    "df_google.Survived.value_counts(dropna=False)"
   ]
  },
  {
   "cell_type": "code",
   "execution_count": 19,
   "id": "1003b1d1",
   "metadata": {},
   "outputs": [
    {
     "data": {
      "text/plain": [
       "3    491\n",
       "1    216\n",
       "2    184\n",
       "Name: Pclass, dtype: int64"
      ]
     },
     "execution_count": 19,
     "metadata": {},
     "output_type": "execute_result"
    }
   ],
   "source": [
    "df_google.Pclass.value_counts(dropna=False)"
   ]
  },
  {
   "cell_type": "code",
   "execution_count": 20,
   "id": "3282be6e",
   "metadata": {},
   "outputs": [
    {
     "data": {
      "text/plain": [
       "male      577\n",
       "female    314\n",
       "Name: Sex, dtype: int64"
      ]
     },
     "execution_count": 20,
     "metadata": {},
     "output_type": "execute_result"
    }
   ],
   "source": [
    "df_google.Sex.value_counts(dropna=False)"
   ]
  },
  {
   "cell_type": "code",
   "execution_count": 21,
   "id": "873d0e32",
   "metadata": {},
   "outputs": [
    {
     "data": {
      "text/plain": [
       "S      644\n",
       "C      168\n",
       "Q       77\n",
       "NaN      2\n",
       "Name: Embarked, dtype: int64"
      ]
     },
     "execution_count": 21,
     "metadata": {},
     "output_type": "execute_result"
    }
   ],
   "source": [
    "df_google.Embarked.value_counts(dropna=False)"
   ]
  },
  {
   "cell_type": "code",
   "execution_count": 22,
   "id": "0df3399c",
   "metadata": {},
   "outputs": [],
   "source": [
    "import pandas as pd\n",
    "import numpy as np\n",
    "import os\n",
    "\n",
    "# acquire\n",
    "from env import get_db_url\n",
    "from pydataset import data\n",
    "import seaborn as sns\n",
    "\n",
    "# turn off pink warning boxes\n",
    "import warnings\n",
    "warnings.filterwarnings(\"ignore\")"
   ]
  },
  {
   "cell_type": "code",
   "execution_count": 23,
   "id": "2951b3c3",
   "metadata": {},
   "outputs": [],
   "source": [
    "#Download the previous exercise's file into an excel (File → Download → Microsoft Excel). Read the downloaded file into a dataframe named df_excel.\n",
    "\n",
    "#assign the first 100 rows to a new dataframe, df_excel_sample\n",
    "#print the number of rows of your original dataframe\n",
    "#print the first 5 column names\n",
    "#print the column names that have a data type of object\n",
    "#compute the range for each of the numeric variables.\n",
    "\n",
    "\n",
    "#df_excel = pd.read_excel('train.xlsx', sheet_name='train')\n",
    "df_excel = pd.read_excel('train.xlsx', sheet_name='train')"
   ]
  },
  {
   "cell_type": "code",
   "execution_count": 24,
   "id": "c90beebc",
   "metadata": {},
   "outputs": [
    {
     "name": "stdout",
     "output_type": "stream",
     "text": [
      "<class 'pandas.core.frame.DataFrame'>\n",
      "RangeIndex: 891 entries, 0 to 890\n",
      "Data columns (total 12 columns):\n",
      " #   Column       Non-Null Count  Dtype  \n",
      "---  ------       --------------  -----  \n",
      " 0   PassengerId  891 non-null    float64\n",
      " 1   Survived     891 non-null    float64\n",
      " 2   Pclass       891 non-null    float64\n",
      " 3   Name         891 non-null    object \n",
      " 4   Sex          891 non-null    object \n",
      " 5   Age          714 non-null    float64\n",
      " 6   SibSp        891 non-null    float64\n",
      " 7   Parch        891 non-null    float64\n",
      " 8   Ticket       891 non-null    object \n",
      " 9   Fare         891 non-null    float64\n",
      " 10  Cabin        204 non-null    object \n",
      " 11  Embarked     889 non-null    object \n",
      "dtypes: float64(7), object(5)\n",
      "memory usage: 83.7+ KB\n"
     ]
    }
   ],
   "source": [
    "df_excel.info()"
   ]
  },
  {
   "cell_type": "code",
   "execution_count": null,
   "id": "c5f1c6ad",
   "metadata": {},
   "outputs": [],
   "source": []
  },
  {
   "cell_type": "code",
   "execution_count": null,
   "id": "47b9f9e7",
   "metadata": {},
   "outputs": [],
   "source": []
  },
  {
   "cell_type": "code",
   "execution_count": null,
   "id": "19af9d3c",
   "metadata": {},
   "outputs": [],
   "source": []
  },
  {
   "cell_type": "code",
   "execution_count": null,
   "id": "dfc6b711",
   "metadata": {},
   "outputs": [],
   "source": []
  }
 ],
 "metadata": {
  "kernelspec": {
   "display_name": "Python 3 (ipykernel)",
   "language": "python",
   "name": "python3"
  },
  "language_info": {
   "codemirror_mode": {
    "name": "ipython",
    "version": 3
   },
   "file_extension": ".py",
   "mimetype": "text/x-python",
   "name": "python",
   "nbconvert_exporter": "python",
   "pygments_lexer": "ipython3",
   "version": "3.9.12"
  }
 },
 "nbformat": 4,
 "nbformat_minor": 5
}
